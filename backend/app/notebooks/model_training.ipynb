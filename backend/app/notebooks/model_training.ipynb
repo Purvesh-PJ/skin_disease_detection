{
 "cells": [
  {
   "cell_type": "code",
   "execution_count": null,
   "metadata": {},
   "outputs": [],
   "source": [
    "# Train model\n",
    "import sys\n",
    "sys.path.append(r'D:\\skin_disease_detection\\backend\\app')\n",
    "# from models import pretrained_model"
   ]
  },
  {
   "cell_type": "code",
   "execution_count": null,
   "metadata": {},
   "outputs": [],
   "source": [
    "# Import saved model\n",
    "from keras.models import load_model\n",
    "model = load_model(r'D:\\skin_disease_detection\\backend\\app\\static\\trained_models\\skin_disease_model.h5')\n",
    "print(model)\n"
   ]
  },
  {
   "cell_type": "code",
   "execution_count": null,
   "metadata": {},
   "outputs": [],
   "source": [
    "import sys\n",
    "sys.path.append(r'D:\\skin_disease_detection\\backend\\app')\n",
    "from services.training_ensemble_model_service import train_and_evaluate_ensemble\n",
    "from utils.preprocess import get_data_generators\n",
    "from tensorflow.keras.utils import to_categorical\n",
    "\n",
    "# Call get_data_generators to load the data\n",
    "train_generator, validation_generator, label_encoder = get_data_generators(metadata_path=r'D:\\skin_disease_detection\\backend\\data\\Ham10000\\HAM10000_metadata.csv', target_size=(224, 224), batch_size=32)\n",
    "\n",
    "# Get one batch of data for training and validation\n",
    "train_data, train_labels = next(train_generator)  # Correct usage of next()\n",
    "val_data, val_labels = next(validation_generator)  # Correct usage of next()\n",
    "\n",
    "# One-hot encode the labels\n",
    "train_labels = to_categorical(train_labels, num_classes=7)\n",
    "val_labels = to_categorical(val_labels, num_classes=7)\n",
    "\n",
    "# Use validation data as the test set\n",
    "test_data = val_data\n",
    "test_labels = val_labels\n",
    "\n",
    "# Train and evaluate the ensemble model\n",
    "train_and_evaluate_ensemble(train_data, train_labels, val_data, val_labels, test_data, test_labels)\n"
   ]
  }
 ],
 "metadata": {
  "kernelspec": {
   "display_name": "skn-dis-env-2",
   "language": "python",
   "name": "python3"
  },
  "language_info": {
   "codemirror_mode": {
    "name": "ipython",
    "version": 3
   },
   "file_extension": ".py",
   "mimetype": "text/x-python",
   "name": "python",
   "nbconvert_exporter": "python",
   "pygments_lexer": "ipython3",
   "version": "3.12.0"
  }
 },
 "nbformat": 4,
 "nbformat_minor": 2
}
