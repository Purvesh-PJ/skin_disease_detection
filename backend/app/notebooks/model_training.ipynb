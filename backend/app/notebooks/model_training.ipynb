{
 "cells": [
  {
   "cell_type": "code",
   "execution_count": null,
   "metadata": {},
   "outputs": [],
   "source": [
    "# Train model\n",
    "import sys\n",
    "sys.path.append(r'D:\\skin_disease_detection\\backend\\app')\n",
    "# from models import pretrained_model"
   ]
  },
  {
   "cell_type": "code",
   "execution_count": null,
   "metadata": {},
   "outputs": [],
   "source": [
    "# Import saved model\n",
    "from keras.models import load_model\n",
    "model = load_model(r'D:\\skin_disease_detection\\backend\\app\\static\\trained_models\\skin_disease_model.h5')\n",
    "print(model)"
   ]
  },
  {
   "cell_type": "code",
   "execution_count": null,
   "metadata": {},
   "outputs": [],
   "source": [
    "import sys\n",
    "import pandas as pd\n",
    "sys.path.append(r'D:\\skin_disease_detection\\backend\\app')\n",
    "from utils.preprocess import get_data_generators\n",
    "from ai_models.ensemble_model import run_ensemble_model\n",
    "\n",
    "# Prepare data generators\n",
    "train_generator, validation_generator, test_generator, label_encoder, class_weights = get_data_generators()\n",
    "\n",
    "# Run the ensemble model\n",
    "run_ensemble_model(train_generator, validation_generator, test_generator, class_weights)"
   ]
  },
  {
   "cell_type": "code",
   "execution_count": null,
   "metadata": {},
   "outputs": [],
   "source": [
    "# Checking the model prediction\n",
    "\n",
    "import sys\n",
    "import numpy as np\n",
    "from tensorflow.keras.models import load_model\n",
    "from joblib import load\n",
    "from tensorflow.keras.preprocessing.image import load_img, img_to_array\n",
    "\n",
    "sys.path.append(r'D:\\skin_disease_detection\\trained_models')\n",
    "\n",
    "# Load base models\n",
    "resnet_model = load_model(r\"D:\\skin_disease_detection\\trained_models\\ResNet50_model.h5\")\n",
    "print(\"ResNet50 model loaded successfully!\")\n",
    "\n",
    "efficientnet_model = load_model(r\"D:\\skin_disease_detection\\trained_models\\EfficientNetB0_model.h5\")\n",
    "print(\"EfficientNet model loaded successfully!\")\n",
    "\n",
    "densenet_model = load_model(r\"D:\\skin_disease_detection\\trained_models\\DenseNet121_model.h5\")\n",
    "print(\"DenseNet model loaded successfully!\")\n",
    "\n",
    "# # Load meta-model\n",
    "meta_model = load(r\"D:\\skin_disease_detection\\trained_models\\meta_model.pkl\")\n",
    "print(\"Meta-model loaded successfully!\")\n",
    "\n",
    "# Load an image\n",
    "image_path = r\"D:\\skin_disease_detection\\backend\\data\\Ham10000\\HAM10000_images_part_2\\ISIC_0033475.jpg\"\n",
    "img = load_img(image_path, target_size=(224, 224))  # Resize as per model input size\n",
    "\n",
    "print(img)\n",
    "\n",
    "# Preprocess the image\n",
    "img_array = img_to_array(img)\n",
    "img_array = np.expand_dims(img_array, axis=0)  # Convert single image to batch\n",
    "img_array = img_array / 255.0 \n",
    "\n",
    "# Get predictions from the base models\n",
    "resnet_pred = resnet_model.predict(img_array)\n",
    "efficientnet_pred = efficientnet_model.predict(img_array)\n",
    "densenet_pred = densenet_model.predict(img_array)\n",
    "\n",
    "print(\"ResNet50 Prediction:\", resnet_pred)\n",
    "print(\"EfficientNet Prediction:\", efficientnet_pred)\n",
    "print(\"DenseNet Prediction:\", densenet_pred)\n",
    "\n",
    "# Combine predictions for the meta-model\n",
    "base_predictions = np.array([resnet_pred, efficientnet_pred, densenet_pred]).reshape(1, -1)\n",
    "\n",
    "# Get the final prediction from the meta-model\n",
    "meta_prediction = meta_model.predict(base_predictions)\n",
    "print(\"Meta-Model Final Prediction:\", meta_prediction)"
   ]
  }
 ],
 "metadata": {
  "kernelspec": {
   "display_name": "skn-dis-env-2",
   "language": "python",
   "name": "python3"
  },
  "language_info": {
   "codemirror_mode": {
    "name": "ipython",
    "version": 3
   },
   "file_extension": ".py",
   "mimetype": "text/x-python",
   "name": "python",
   "nbconvert_exporter": "python",
   "pygments_lexer": "ipython3",
   "version": "3.12.0"
  }
 },
 "nbformat": 4,
 "nbformat_minor": 2
}
