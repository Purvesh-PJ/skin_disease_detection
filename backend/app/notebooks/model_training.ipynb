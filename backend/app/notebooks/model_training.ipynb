{
 "cells": [
  {
   "cell_type": "code",
   "execution_count": null,
   "metadata": {},
   "outputs": [],
   "source": [
    "# Train model\n",
    "import sys\n",
    "sys.path.append(r'D:\\skin_disease_detection\\backend\\app')\n",
    "# from models import pretrained_model"
   ]
  },
  {
   "cell_type": "code",
   "execution_count": null,
   "metadata": {},
   "outputs": [],
   "source": [
    "# Import saved model\n",
    "from keras.models import load_model\n",
    "model = load_model(r'D:\\skin_disease_detection\\backend\\app\\static\\trained_models\\skin_disease_model.h5')\n",
    "print(model)"
   ]
  },
  {
   "cell_type": "code",
   "execution_count": null,
   "metadata": {},
   "outputs": [],
   "source": [
    "import sys\n",
    "import pandas as pd\n",
    "sys.path.append(r'D:\\skin_disease_detection\\backend\\app')\n",
    "from services.training_ensemble_model_service import train_and_evaluate_ensemble\n",
    "from utils.preprocess import get_data_generators\n",
    "from models.ensemble_model import train_base_models, stack_and_train_ensemble, evaluate_ensemble_model\n",
    "\n",
    "metadata_path = r'D:\\skin_disease_detection\\backend\\data\\Ham10000\\HAM10000_metadata.csv'\n",
    "metadata = pd.read_csv(metadata_path)\n",
    "\n",
    "# Assuming get_data_generators() is already available and returns the required data generators\n",
    "train_generator, val_generator, test_generator, label_encoder = get_data_generators(\n",
    "    metadata_path=r'D:\\skin_disease_detection\\backend\\data\\Ham10000\\HAM10000_metadata.csv',\n",
    "    target_size=(224, 224),\n",
    "    batch_size=32,\n",
    "    use_subset=True, \n",
    "    sample_size=500\n",
    "    )\n",
    "\n",
    "    # use_subset=True  # Optional: set to True for a subset of data\n",
    "    # sample_size=500   # Optional: define a sample size for testing\n",
    "\n",
    "# Train base models using the generators\n",
    "resnet_model, efficientnet_model, densenet_model = train_base_models(train_generator, val_generator, metadata)\n",
    "# Stack the predictions from the base models and train the meta-model\n",
    "meta_model = stack_and_train_ensemble([resnet_model, efficientnet_model, densenet_model], val_generator)\n",
    "# Evaluate the ensemble model\n",
    "evaluate_ensemble_model([resnet_model, efficientnet_model, densenet_model], meta_model, test_generator)"
   ]
  }
 ],
 "metadata": {
  "kernelspec": {
   "display_name": "skn-dis-env-2",
   "language": "python",
   "name": "python3"
  },
  "language_info": {
   "codemirror_mode": {
    "name": "ipython",
    "version": 3
   },
   "file_extension": ".py",
   "mimetype": "text/x-python",
   "name": "python",
   "nbconvert_exporter": "python",
   "pygments_lexer": "ipython3",
   "version": "3.12.0"
  }
 },
 "nbformat": 4,
 "nbformat_minor": 2
}
