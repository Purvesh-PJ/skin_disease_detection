{
 "cells": [
  {
   "cell_type": "code",
   "execution_count": null,
   "metadata": {},
   "outputs": [],
   "source": [
    "# Train model\n",
    "import sys\n",
    "sys.path.append(r'D:\\skin_disease_detection\\backend\\app')\n",
    "# from models import pretrained_model"
   ]
  },
  {
   "cell_type": "code",
   "execution_count": null,
   "metadata": {},
   "outputs": [],
   "source": [
    "# Import saved model\n",
    "from keras.models import load_model\n",
    "model = load_model(r'D:\\skin_disease_detection\\backend\\app\\static\\trained_models\\skin_disease_model.h5')\n",
    "print(model)"
   ]
  },
  {
   "cell_type": "code",
   "execution_count": null,
   "metadata": {},
   "outputs": [],
   "source": [
    "import sys\n",
    "sys.path.append(r'D:\\skin_disease_detection\\backend\\app')\n",
    "from services.training_ensemble_model_service import train_and_evaluate_ensemble\n",
    "from utils.preprocess import get_data_generators\n",
    "from tensorflow.keras.utils import to_categorical\n",
    "\n",
    "# Call get_data_generators to load the data\n",
    "train_generator, validation_generator, label_encoder = get_data_generators(\n",
    "    metadata_path=r'D:\\skin_disease_detection\\backend\\data\\Ham10000\\HAM10000_metadata.csv',\n",
    "    target_size=(224, 224),\n",
    "    batch_size=32\n",
    ")\n",
    "\n",
    "# Get one batch of data for training and validation\n",
    "train_data, train_labels = next(train_generator)  # Retrieve one batch\n",
    "val_data, val_labels = next(validation_generator)  # Retrieve one batch\n",
    "\n",
    "# Check if the generator batch sizes match the expected number of classes\n",
    "print(\"Train data shape:\", train_data.shape)\n",
    "print(\"Validation data shape:\", val_data.shape)\n",
    "\n",
    "# One-hot encode the labels using the number of classes in label_encoder\n",
    "num_classes = len(label_encoder.classes_)\n",
    "train_labels = to_categorical(train_labels, num_classes=num_classes)\n",
    "val_labels = to_categorical(val_labels, num_classes=num_classes)\n",
    "\n",
    "# Assign validation data to test set (as per your setup)\n",
    "test_data = val_data\n",
    "test_labels = val_labels\n",
    "\n",
    "# Confirm shapes before training\n",
    "print(\"Train labels shape (one-hot):\", train_labels.shape)\n",
    "print(\"Validation labels shape (one-hot):\", val_labels.shape)\n",
    "print(\"Test data shape:\", test_data.shape)\n",
    "print(\"Test labels shape (one-hot):\", test_labels.shape)\n",
    "\n",
    "# Train and evaluate the ensemble model\n",
    "# Ensure train_and_evaluate_ensemble is compatible with batch sizes and input structure\n",
    "train_and_evaluate_ensemble(train_data, train_labels, val_data, val_labels, test_data, test_labels)\n"
   ]
  },
  {
   "cell_type": "code",
   "execution_count": 1,
   "metadata": {},
   "outputs": [
    {
     "name": "stdout",
     "output_type": "stream",
     "text": [
      "dx\n",
      "nv       6705\n",
      "mel      1113\n",
      "bkl      1099\n",
      "bcc       514\n",
      "akiec     327\n",
      "vasc      142\n",
      "df        115\n",
      "Name: count, dtype: int64\n",
      "Class weights: {'akiec': np.float64(4.375273044997815), 'bcc': np.float64(2.78349082823791), 'bkl': np.float64(1.301832835044846), 'df': np.float64(12.440993788819876), 'mel': np.float64(1.2854575792581184), 'nv': np.float64(0.21338020666879728), 'vasc': np.float64(10.075452716297788)}\n"
     ]
    }
   ],
   "source": [
    "import pandas as pd\n",
    "import numpy as np\n",
    "from sklearn.utils.class_weight import compute_class_weight\n",
    "\n",
    "# Load the metadata\n",
    "metadata = pd.read_csv('D:\\\\skin_disease_detection\\\\backend\\\\data\\\\Ham10000\\\\HAM10000_metadata.csv')\n",
    "print(metadata['dx'].value_counts())  # This will show how many instances there are of each label\n",
    "\n",
    "# Compute class weights\n",
    "class_weights = compute_class_weight(\n",
    "    class_weight=\"balanced\", \n",
    "    classes=np.unique(metadata['dx']), \n",
    "    y=metadata['dx']\n",
    ")\n",
    "# Create a dictionary of class weights, mapping class labels to their corresponding weight\n",
    "class_weights_dict = dict(zip(np.unique(metadata['dx']), class_weights))\n",
    "print(\"Class weights:\", class_weights_dict)"
   ]
  }
 ],
 "metadata": {
  "kernelspec": {
   "display_name": "skn-dis-env-2",
   "language": "python",
   "name": "python3"
  },
  "language_info": {
   "codemirror_mode": {
    "name": "ipython",
    "version": 3
   },
   "file_extension": ".py",
   "mimetype": "text/x-python",
   "name": "python",
   "nbconvert_exporter": "python",
   "pygments_lexer": "ipython3",
   "version": "3.12.0"
  }
 },
 "nbformat": 4,
 "nbformat_minor": 2
}
