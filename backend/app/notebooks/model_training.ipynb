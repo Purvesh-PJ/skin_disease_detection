{
 "cells": [
  {
   "cell_type": "code",
   "execution_count": null,
   "metadata": {},
   "outputs": [],
   "source": [
    "# Train model\n",
    "import sys\n",
    "sys.path.append(r'D:\\skin_disease_detection\\backend\\app')\n",
    "# from models import pretrained_model"
   ]
  },
  {
   "cell_type": "code",
   "execution_count": null,
   "metadata": {},
   "outputs": [],
   "source": [
    "# Import saved model\n",
    "from keras.models import load_model\n",
    "model = load_model(r'D:\\skin_disease_detection\\backend\\app\\static\\trained_models\\skin_disease_model.h5')\n",
    "print(model)"
   ]
  },
  {
   "cell_type": "code",
   "execution_count": null,
   "metadata": {},
   "outputs": [],
   "source": [
    "import sys\n",
    "import pandas as pd\n",
    "sys.path.append(r'D:\\skin_disease_detection\\backend\\app')\n",
    "from utils.preprocess import get_data_generators\n",
    "from ai_models.ensemble_model import run_ensemble_model\n",
    "\n",
    "# Prepare data generators\n",
    "train_generator, validation_generator, test_generator, label_encoder = get_data_generators()\n",
    "\n",
    "# Run the ensemble model\n",
    "run_ensemble_model(train_generator, validation_generator, test_generator)\n"
   ]
  }
 ],
 "metadata": {
  "kernelspec": {
   "display_name": "skn-dis-env-2",
   "language": "python",
   "name": "python3"
  },
  "language_info": {
   "codemirror_mode": {
    "name": "ipython",
    "version": 3
   },
   "file_extension": ".py",
   "mimetype": "text/x-python",
   "name": "python",
   "nbconvert_exporter": "python",
   "pygments_lexer": "ipython3",
   "version": "3.12.0"
  }
 },
 "nbformat": 4,
 "nbformat_minor": 2
}
