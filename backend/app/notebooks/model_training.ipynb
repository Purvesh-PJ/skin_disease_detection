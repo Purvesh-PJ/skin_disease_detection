{
 "cells": [
  {
   "cell_type": "code",
   "execution_count": null,
   "metadata": {},
   "outputs": [],
   "source": [
    "# Train model\n",
    "import sys\n",
    "sys.path.append(r'D:\\skin_disease_detection\\backend\\app')\n",
    "# from models import pretrained_model"
   ]
  },
  {
   "cell_type": "code",
   "execution_count": null,
   "metadata": {},
   "outputs": [],
   "source": [
    "# Import saved model\n",
    "from keras.models import load_model\n",
    "model = load_model(r'D:\\skin_disease_detection\\backend\\app\\static\\trained_models\\skin_disease_model.h5')\n",
    "print(model)"
   ]
  },
  {
   "cell_type": "code",
   "execution_count": 1,
   "metadata": {},
   "outputs": [
    {
     "name": "stdout",
     "output_type": "stream",
     "text": [
      "########## GETTING DATA GENERATORS ##########\n",
      "\n",
      "Loading metadata...\n",
      "\n",
      "\n",
      "########## TOP FIVE SAMPLE DATA ##########\n",
      "Metadata:      lesion_id      image_id   dx dx_type   age   sex localization  \\\n",
      "0  HAM_0000118  ISIC_0027419  bkl   histo  80.0  male        scalp   \n",
      "1  HAM_0000118  ISIC_0025030  bkl   histo  80.0  male        scalp   \n",
      "2  HAM_0002730  ISIC_0026769  bkl   histo  80.0  male        scalp   \n",
      "3  HAM_0002730  ISIC_0025661  bkl   histo  80.0  male        scalp   \n",
      "4  HAM_0001466  ISIC_0031633  bkl   histo  75.0  male          ear   \n",
      "\n",
      "                                                path  \n",
      "0  D:\\skin_disease_detection\\backend\\data\\Ham1000...  \n",
      "1  D:\\skin_disease_detection\\backend\\data\\Ham1000...  \n",
      "2  D:\\skin_disease_detection\\backend\\data\\Ham1000...  \n",
      "3  D:\\skin_disease_detection\\backend\\data\\Ham1000...  \n",
      "4  D:\\skin_disease_detection\\backend\\data\\Ham1000...  \n",
      "\n",
      "\n",
      "########## LABELS ##########\n",
      "Encoding labels...\n",
      "Labels encoded. Unique classes: ['akiec' 'bcc' 'bkl' 'df' 'mel' 'nv' 'vasc']\n",
      "\n",
      "\n",
      "########## SPLITTING DATA BY LENSION ##########\n",
      "Splitting data by lesion_id...\n",
      "\n",
      "\n",
      "########## CLASS WEIGHTS ##########\n",
      "Calculating class weights...\n",
      "Class Weights: {0: np.float64(4.257995735607676), 1: np.float64(2.8153195488721803), 2: np.float64(1.371565934065934), 3: np.float64(13.804147465437788), 4: np.float64(1.2967532467532468), 5: np.float64(0.21069845959063094), 6: np.float64(10.972527472527473)}\n",
      "Class Weights: {0: np.float64(4.257995735607676), 1: np.float64(2.8153195488721803), 2: np.float64(1.371565934065934), 3: np.float64(13.804147465437788), 4: np.float64(1.2967532467532468), 5: np.float64(0.21069845959063094), 6: np.float64(10.972527472527473)}\n",
      "label encoder: LabelEncoder()\n",
      "Found 5991 validated image filenames belonging to 7 classes.\n",
      "\n",
      "\n",
      "########## BATCH SHAPES ##########\n",
      "x_batch shape: (32, 224, 224, 3), y_batch shape: (32, 7)\n",
      "x_batch dtype: float32\n",
      "y_batch dtype: float32\n",
      "Found 2024 validated image filenames belonging to 7 classes.\n",
      "Found 2000 validated image filenames belonging to 7 classes.\n",
      "\n",
      "\n",
      "########## FINAL GENERATORS ##########\n",
      "Train Generator: <keras.src.legacy.preprocessing.image.DataFrameIterator object at 0x000001B0C1885B80>\n",
      "Validation Generator: <keras.src.legacy.preprocessing.image.DataFrameIterator object at 0x000001B0C301B680>\n",
      "Test Generator: <keras.src.legacy.preprocessing.image.DataFrameIterator object at 0x000001B0C2CAA3F0>\n",
      "\n",
      "\n",
      "Data generators created successfully.\n",
      "\n",
      "\n",
      "########## TRAINING : ResNet50 ##########\n"
     ]
    },
    {
     "name": "stderr",
     "output_type": "stream",
     "text": [
      "c:\\Users\\Purve\\anaconda3\\envs\\skn-dis-env-2\\Lib\\site-packages\\keras\\src\\trainers\\data_adapters\\py_dataset_adapter.py:121: UserWarning: Your `PyDataset` class should call `super().__init__(**kwargs)` in its constructor. `**kwargs` can include `workers`, `use_multiprocessing`, `max_queue_size`. Do not pass these arguments to `fit()`, as they will be ignored.\n",
      "  self._warn_if_super_not_called()\n"
     ]
    },
    {
     "name": "stdout",
     "output_type": "stream",
     "text": [
      "Epoch 1/10\n",
      "\u001b[1m188/188\u001b[0m \u001b[32m━━━━━━━━━━━━━━━━━━━━\u001b[0m\u001b[37m\u001b[0m \u001b[1m434s\u001b[0m 2s/step - accuracy: 0.6388 - loss: 1.3524 - val_accuracy: 0.6542 - val_loss: 1.1634\n",
      "Epoch 2/10\n",
      "\u001b[1m188/188\u001b[0m \u001b[32m━━━━━━━━━━━━━━━━━━━━\u001b[0m\u001b[37m\u001b[0m \u001b[1m369s\u001b[0m 2s/step - accuracy: 0.6800 - loss: 1.1498 - val_accuracy: 0.6542 - val_loss: 1.1806\n",
      "Epoch 3/10\n",
      "\u001b[1m188/188\u001b[0m \u001b[32m━━━━━━━━━━━━━━━━━━━━\u001b[0m\u001b[37m\u001b[0m \u001b[1m378s\u001b[0m 2s/step - accuracy: 0.6718 - loss: 1.1633 - val_accuracy: 0.6542 - val_loss: 1.1703\n",
      "Epoch 4/10\n",
      "\u001b[1m188/188\u001b[0m \u001b[32m━━━━━━━━━━━━━━━━━━━━\u001b[0m\u001b[37m\u001b[0m \u001b[1m376s\u001b[0m 2s/step - accuracy: 0.6779 - loss: 1.1330 - val_accuracy: 0.6542 - val_loss: 1.1737\n"
     ]
    },
    {
     "name": "stderr",
     "output_type": "stream",
     "text": [
      "WARNING:absl:You are saving your model as an HDF5 file via `model.save()` or `keras.saving.save_model(model)`. This file format is considered legacy. We recommend using instead the native Keras format, e.g. `model.save('my_model.keras')` or `keras.saving.save_model(model, 'my_model.keras')`. \n"
     ]
    },
    {
     "name": "stdout",
     "output_type": "stream",
     "text": [
      "SAVED ResNet50 model to ../../trained_models\\ResNet50_model.h5\n",
      "\u001b[1m64/64\u001b[0m \u001b[32m━━━━━━━━━━━━━━━━━━━━\u001b[0m\u001b[37m\u001b[0m \u001b[1m93s\u001b[0m 1s/step\n",
      "\n",
      "\n",
      "########## TRAINING : EfficientNetB0 ##########\n",
      "Epoch 1/10\n",
      "\u001b[1m188/188\u001b[0m \u001b[32m━━━━━━━━━━━━━━━━━━━━\u001b[0m\u001b[37m\u001b[0m \u001b[1m219s\u001b[0m 1s/step - accuracy: 0.6488 - loss: 1.2503 - val_accuracy: 0.6542 - val_loss: 1.1834\n",
      "Epoch 2/10\n",
      "\u001b[1m188/188\u001b[0m \u001b[32m━━━━━━━━━━━━━━━━━━━━\u001b[0m\u001b[37m\u001b[0m \u001b[1m207s\u001b[0m 1s/step - accuracy: 0.6814 - loss: 1.1422 - val_accuracy: 0.6542 - val_loss: 1.1699\n",
      "Epoch 3/10\n",
      "\u001b[1m188/188\u001b[0m \u001b[32m━━━━━━━━━━━━━━━━━━━━\u001b[0m\u001b[37m\u001b[0m \u001b[1m194s\u001b[0m 1s/step - accuracy: 0.6747 - loss: 1.1579 - val_accuracy: 0.6542 - val_loss: 1.1683\n",
      "Epoch 4/10\n",
      "\u001b[1m188/188\u001b[0m \u001b[32m━━━━━━━━━━━━━━━━━━━━\u001b[0m\u001b[37m\u001b[0m \u001b[1m209s\u001b[0m 1s/step - accuracy: 0.6787 - loss: 1.1410 - val_accuracy: 0.6542 - val_loss: 1.1724\n",
      "Epoch 5/10\n",
      "\u001b[1m188/188\u001b[0m \u001b[32m━━━━━━━━━━━━━━━━━━━━\u001b[0m\u001b[37m\u001b[0m \u001b[1m208s\u001b[0m 1s/step - accuracy: 0.6777 - loss: 1.1508 - val_accuracy: 0.6542 - val_loss: 1.1656\n",
      "Epoch 6/10\n",
      "\u001b[1m188/188\u001b[0m \u001b[32m━━━━━━━━━━━━━━━━━━━━\u001b[0m\u001b[37m\u001b[0m \u001b[1m206s\u001b[0m 1s/step - accuracy: 0.6708 - loss: 1.1639 - val_accuracy: 0.6542 - val_loss: 1.1655\n",
      "Epoch 7/10\n",
      "\u001b[1m188/188\u001b[0m \u001b[32m━━━━━━━━━━━━━━━━━━━━\u001b[0m\u001b[37m\u001b[0m \u001b[1m209s\u001b[0m 1s/step - accuracy: 0.6888 - loss: 1.1193 - val_accuracy: 0.6542 - val_loss: 1.1631\n",
      "Epoch 8/10\n",
      "\u001b[1m188/188\u001b[0m \u001b[32m━━━━━━━━━━━━━━━━━━━━\u001b[0m\u001b[37m\u001b[0m \u001b[1m211s\u001b[0m 1s/step - accuracy: 0.6746 - loss: 1.1427 - val_accuracy: 0.6542 - val_loss: 1.1647\n",
      "Epoch 9/10\n",
      "\u001b[1m188/188\u001b[0m \u001b[32m━━━━━━━━━━━━━━━━━━━━\u001b[0m\u001b[37m\u001b[0m \u001b[1m208s\u001b[0m 1s/step - accuracy: 0.6742 - loss: 1.1556 - val_accuracy: 0.6542 - val_loss: 1.1700\n",
      "Epoch 10/10\n",
      "\u001b[1m188/188\u001b[0m \u001b[32m━━━━━━━━━━━━━━━━━━━━\u001b[0m\u001b[37m\u001b[0m \u001b[1m209s\u001b[0m 1s/step - accuracy: 0.6772 - loss: 1.1436 - val_accuracy: 0.6542 - val_loss: 1.1645\n"
     ]
    },
    {
     "name": "stderr",
     "output_type": "stream",
     "text": [
      "WARNING:absl:You are saving your model as an HDF5 file via `model.save()` or `keras.saving.save_model(model)`. This file format is considered legacy. We recommend using instead the native Keras format, e.g. `model.save('my_model.keras')` or `keras.saving.save_model(model, 'my_model.keras')`. \n"
     ]
    },
    {
     "name": "stdout",
     "output_type": "stream",
     "text": [
      "SAVED EfficientNetB0 model to ../../trained_models\\EfficientNetB0_model.h5\n",
      "\u001b[1m64/64\u001b[0m \u001b[32m━━━━━━━━━━━━━━━━━━━━\u001b[0m\u001b[37m\u001b[0m \u001b[1m41s\u001b[0m 612ms/step\n",
      "\n",
      "\n",
      "########## TRAINING : DenseNet121 ##########\n",
      "Epoch 1/10\n",
      "\u001b[1m188/188\u001b[0m \u001b[32m━━━━━━━━━━━━━━━━━━━━\u001b[0m\u001b[37m\u001b[0m \u001b[1m432s\u001b[0m 2s/step - accuracy: 0.6348 - loss: 1.1987 - val_accuracy: 0.6858 - val_loss: 0.8334\n",
      "Epoch 2/10\n",
      "\u001b[1m188/188\u001b[0m \u001b[32m━━━━━━━━━━━━━━━━━━━━\u001b[0m\u001b[37m\u001b[0m \u001b[1m409s\u001b[0m 2s/step - accuracy: 0.6956 - loss: 0.8303 - val_accuracy: 0.6991 - val_loss: 0.8081\n",
      "Epoch 3/10\n",
      "\u001b[1m188/188\u001b[0m \u001b[32m━━━━━━━━━━━━━━━━━━━━\u001b[0m\u001b[37m\u001b[0m \u001b[1m410s\u001b[0m 2s/step - accuracy: 0.7283 - loss: 0.7729 - val_accuracy: 0.7238 - val_loss: 0.7558\n",
      "Epoch 4/10\n",
      "\u001b[1m188/188\u001b[0m \u001b[32m━━━━━━━━━━━━━━━━━━━━\u001b[0m\u001b[37m\u001b[0m \u001b[1m379s\u001b[0m 2s/step - accuracy: 0.7304 - loss: 0.7424 - val_accuracy: 0.7273 - val_loss: 0.7619\n",
      "Epoch 5/10\n",
      "\u001b[1m188/188\u001b[0m \u001b[32m━━━━━━━━━━━━━━━━━━━━\u001b[0m\u001b[37m\u001b[0m \u001b[1m395s\u001b[0m 2s/step - accuracy: 0.7331 - loss: 0.7220 - val_accuracy: 0.7243 - val_loss: 0.7693\n",
      "Epoch 6/10\n",
      "\u001b[1m188/188\u001b[0m \u001b[32m━━━━━━━━━━━━━━━━━━━━\u001b[0m\u001b[37m\u001b[0m \u001b[1m393s\u001b[0m 2s/step - accuracy: 0.7343 - loss: 0.7198 - val_accuracy: 0.7302 - val_loss: 0.7572\n"
     ]
    },
    {
     "name": "stderr",
     "output_type": "stream",
     "text": [
      "WARNING:absl:You are saving your model as an HDF5 file via `model.save()` or `keras.saving.save_model(model)`. This file format is considered legacy. We recommend using instead the native Keras format, e.g. `model.save('my_model.keras')` or `keras.saving.save_model(model, 'my_model.keras')`. \n"
     ]
    },
    {
     "name": "stdout",
     "output_type": "stream",
     "text": [
      "SAVED DenseNet121 model to ../../trained_models\\DenseNet121_model.h5\n",
      "\u001b[1m64/64\u001b[0m \u001b[32m━━━━━━━━━━━━━━━━━━━━\u001b[0m\u001b[37m\u001b[0m \u001b[1m103s\u001b[0m 2s/step\n",
      "\n",
      "\n",
      "########## STACKING PREDICTIONS FROM BASE MODELS ##########\n",
      "Shape of base_model_preds: (2024, 21)\n",
      "Length of validation_generator.classes: 2024\n",
      "\n",
      "\n",
      "########## TRAINING : Meta Model Logistic Regression ##########\n",
      "SAVED meta-model to ../../trained_models\\meta_model.pkl\n",
      "\n",
      "\n",
      "########## EVALUATING ##########\n"
     ]
    },
    {
     "name": "stderr",
     "output_type": "stream",
     "text": [
      "c:\\Users\\Purve\\anaconda3\\envs\\skn-dis-env-2\\Lib\\site-packages\\keras\\src\\trainers\\data_adapters\\py_dataset_adapter.py:121: UserWarning: Your `PyDataset` class should call `super().__init__(**kwargs)` in its constructor. `**kwargs` can include `workers`, `use_multiprocessing`, `max_queue_size`. Do not pass these arguments to `fit()`, as they will be ignored.\n",
      "  self._warn_if_super_not_called()\n"
     ]
    },
    {
     "name": "stdout",
     "output_type": "stream",
     "text": [
      "\u001b[1m63/63\u001b[0m \u001b[32m━━━━━━━━━━━━━━━━━━━━\u001b[0m\u001b[37m\u001b[0m \u001b[1m97s\u001b[0m 2s/step\n",
      "\u001b[1m63/63\u001b[0m \u001b[32m━━━━━━━━━━━━━━━━━━━━\u001b[0m\u001b[37m\u001b[0m \u001b[1m38s\u001b[0m 599ms/step\n",
      "\u001b[1m63/63\u001b[0m \u001b[32m━━━━━━━━━━━━━━━━━━━━\u001b[0m\u001b[37m\u001b[0m \u001b[1m94s\u001b[0m 1s/step\n",
      "\n",
      "\n",
      "########## CLASSIFICATION REPORT ##########\n",
      "              precision    recall  f1-score   support\n",
      "\n",
      "           0       0.00      0.00      0.00        66\n",
      "           1       0.00      0.00      0.00       105\n",
      "           2       0.00      0.00      0.00       241\n",
      "           3       0.00      0.00      0.00        35\n",
      "           4       0.00      0.00      0.00       212\n",
      "           5       0.66      1.00      0.79      1319\n",
      "           6       0.00      0.00      0.00        22\n",
      "\n",
      "    accuracy                           0.66      2000\n",
      "   macro avg       0.09      0.14      0.11      2000\n",
      "weighted avg       0.43      0.66      0.52      2000\n",
      "\n",
      "\n",
      "\n",
      "########## CONFUSION MATRIX ##########\n",
      "[[   0    0    0    0    0   66    0]\n",
      " [   0    0    0    0    0  105    0]\n",
      " [   0    0    0    0    0  241    0]\n",
      " [   0    0    0    0    0   35    0]\n",
      " [   0    0    0    0    0  212    0]\n",
      " [   0    0    0    0    0 1319    0]\n",
      " [   0    0    0    0    0   22    0]]\n",
      "\n",
      "\n"
     ]
    },
    {
     "name": "stderr",
     "output_type": "stream",
     "text": [
      "c:\\Users\\Purve\\anaconda3\\envs\\skn-dis-env-2\\Lib\\site-packages\\sklearn\\metrics\\_classification.py:1531: UndefinedMetricWarning: Precision is ill-defined and being set to 0.0 in labels with no predicted samples. Use `zero_division` parameter to control this behavior.\n",
      "  _warn_prf(average, modifier, f\"{metric.capitalize()} is\", len(result))\n",
      "c:\\Users\\Purve\\anaconda3\\envs\\skn-dis-env-2\\Lib\\site-packages\\sklearn\\metrics\\_classification.py:1531: UndefinedMetricWarning: Precision is ill-defined and being set to 0.0 in labels with no predicted samples. Use `zero_division` parameter to control this behavior.\n",
      "  _warn_prf(average, modifier, f\"{metric.capitalize()} is\", len(result))\n",
      "c:\\Users\\Purve\\anaconda3\\envs\\skn-dis-env-2\\Lib\\site-packages\\sklearn\\metrics\\_classification.py:1531: UndefinedMetricWarning: Precision is ill-defined and being set to 0.0 in labels with no predicted samples. Use `zero_division` parameter to control this behavior.\n",
      "  _warn_prf(average, modifier, f\"{metric.capitalize()} is\", len(result))\n"
     ]
    }
   ],
   "source": [
    "import sys\n",
    "import pandas as pd\n",
    "sys.path.append(r'D:\\skin_disease_detection\\backend\\app')\n",
    "from utils.preprocess import get_data_generators\n",
    "from ai_models.ensemble_model import run_ensemble_model\n",
    "\n",
    "# Prepare data generators\n",
    "train_generator, validation_generator, test_generator, label_encoder, class_weights = get_data_generators()\n",
    "\n",
    "# Run the ensemble model\n",
    "run_ensemble_model(train_generator, validation_generator, test_generator, class_weights)"
   ]
  }
 ],
 "metadata": {
  "kernelspec": {
   "display_name": "skn-dis-env-2",
   "language": "python",
   "name": "python3"
  },
  "language_info": {
   "codemirror_mode": {
    "name": "ipython",
    "version": 3
   },
   "file_extension": ".py",
   "mimetype": "text/x-python",
   "name": "python",
   "nbconvert_exporter": "python",
   "pygments_lexer": "ipython3",
   "version": "3.12.0"
  }
 },
 "nbformat": 4,
 "nbformat_minor": 2
}
